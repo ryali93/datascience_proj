{
  "nbformat": 4,
  "nbformat_minor": 0,
  "metadata": {
    "colab": {
      "name": "Map News.ipynb",
      "version": "0.3.2",
      "provenance": [],
      "collapsed_sections": []
    },
    "kernelspec": {
      "name": "python3",
      "display_name": "Python 3"
    }
  },
  "cells": [
    {
      "cell_type": "markdown",
      "metadata": {
        "id": "8TIthwYCNnCJ",
        "colab_type": "text"
      },
      "source": [
        "#Proyecto: Map News"
      ]
    },
    {
      "cell_type": "markdown",
      "metadata": {
        "id": "TFg7o3Uiffsl",
        "colab_type": "text"
      },
      "source": [
        "##Objetivo##\n",
        "El proyecto Map News tiene como objetivo mostrar en un **mapa** los lugares donde suceden los principales acontecimientos a los que hacen referencia los artículos periodísticos y/o saber que lugares están siendo parte de la noticia.\n",
        "\n",
        "Esto se realiza con el fin de espacializar el análisis de información, por ejemplo podríamos ver que lugares están siendo referenciados a asesinatos, saber las zonas donde la población está siendo afectada por desastres o fenómenos naturales, conocer las zonas dónde se vienn realizando paros o  protestas, etc.\n"
      ]
    },
    {
      "cell_type": "markdown",
      "metadata": {
        "id": "Ya2QZtsTrqgQ",
        "colab_type": "text"
      },
      "source": [
        "##Fuentes de datos##\n",
        "Para poder realizar el proyecto, necesitamos obtener los últimos acontecimientos del día, para ello necesitaremos revisar los principales diarios del país, por lo que en este caso hemos escogido:\n",
        "La República, El Comercio, * _Añadir diarios(considero el trome por ser el más leído)_ *"
      ]
    },
    {
      "cell_type": "markdown",
      "metadata": {
        "id": "q6m8gAN6tIXF",
        "colab_type": "text"
      },
      "source": [
        "##Exploración inicial de datos##\n",
        "Ahora mismo nos encontramos en el análisis de las páginas a escrapear con el fin de obtener la mayor cantidad de información posible e incluso categorizarla no solo por topic, sino también por fecha.\n"
      ]
    },
    {
      "cell_type": "markdown",
      "metadata": {
        "id": "k9PDopFHNbwj",
        "colab_type": "text"
      },
      "source": [
        "##Procedimiento\n",
        "- Scrapeo de páginas de los principales diarios de noticias.\n",
        "- Una vez definido el proceso de scrapeo y contar con la información requerida se hara uso de algoritmos de NLP para poder encontrar las palabras dentro del artículo que hagan referencia a un lugar\n",
        "- Utilizaremos cada artículo y ubicaremos cada lugar presente en estos mediante geocódigo.\n",
        "- Al tener los puntos georeferenciados pasaremos a mostrarlos en un visor web.\n",
        "- al final debemos armar la estructura del projecto y ostrarlo a través de un esquema web utilizando Django.\n"
      ]
    }
  ]
}