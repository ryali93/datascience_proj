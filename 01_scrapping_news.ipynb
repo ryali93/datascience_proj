{
  "nbformat": 4,
  "nbformat_minor": 0,
  "metadata": {
    "colab": {
      "name": "01_scrapping_news.ipynb",
      "provenance": [],
      "collapsed_sections": [],
      "include_colab_link": true
    },
    "kernelspec": {
      "name": "python3",
      "display_name": "Python 3"
    }
  },
  "cells": [
    {
      "cell_type": "markdown",
      "metadata": {
        "id": "view-in-github",
        "colab_type": "text"
      },
      "source": [
        "<a href=\"https://colab.research.google.com/github/ryali93/datascience_proj/blob/master/01_scrapping_news.ipynb\" target=\"_parent\"><img src=\"https://colab.research.google.com/assets/colab-badge.svg\" alt=\"Open In Colab\"/></a>"
      ]
    },
    {
      "cell_type": "markdown",
      "metadata": {
        "id": "wi5UCxEJKKpH",
        "colab_type": "text"
      },
      "source": [
        "# Scrapping de páginas de noticias"
      ]
    },
    {
      "cell_type": "markdown",
      "metadata": {
        "id": "iXn9m7z8Kpfn",
        "colab_type": "text"
      },
      "source": [
        "## El Comercio"
      ]
    },
    {
      "cell_type": "markdown",
      "metadata": {
        "id": "C6qJQIlKKOtX",
        "colab_type": "text"
      },
      "source": [
        "Importación de librerías"
      ]
    },
    {
      "cell_type": "code",
      "metadata": {
        "id": "FMHVKHYGxDzz",
        "colab_type": "code",
        "colab": {}
      },
      "source": [
        "import urllib\n",
        "import requests\n",
        "from bs4 import BeautifulSoup"
      ],
      "execution_count": 0,
      "outputs": []
    },
    {
      "cell_type": "code",
      "metadata": {
        "id": "QSpahr7PxGMp",
        "colab_type": "code",
        "colab": {}
      },
      "source": [
        "url = \"https://elcomercio.pe//deporte-total/futbol-mundial/ver-fox-sports-gratis-en-vivo-aqui-cruz-azul-vs-pachuca-en-directo-juegan-por-la-fecha-12-del-apertura-2019-de-la-liga-mx-goles-video-youtube-goles-noticia/\"\n",
        "response = requests.get(url)\n",
        "soup = BeautifulSoup(response.text)"
      ],
      "execution_count": 0,
      "outputs": []
    },
    {
      "cell_type": "code",
      "metadata": {
        "id": "Lu8hyP9DxceQ",
        "colab_type": "code",
        "outputId": "c3cb4871-3b62-42f7-f80a-10a65aa952e1",
        "colab": {
          "base_uri": "https://localhost:8080/",
          "height": 51
        }
      },
      "source": [
        "fecha_publ = soup.find(\"meta\",  property=\"article:published_time\")[\"content\"]\n",
        "tags = soup.find(\"meta\",  property=\"article:tag\")[\"content\"]\n",
        "print(fecha_publ)\n",
        "print(tags)"
      ],
      "execution_count": 0,
      "outputs": [
        {
          "output_type": "stream",
          "text": [
            "2019-09-28T03:49:26.201Z\n",
            "Pachuca\n"
          ],
          "name": "stdout"
        }
      ]
    },
    {
      "cell_type": "markdown",
      "metadata": {
        "id": "tUW6BdSzKXT-",
        "colab_type": "text"
      },
      "source": [
        "Extrayendo el texto de una noticia de la web de **El Comercio**"
      ]
    },
    {
      "cell_type": "code",
      "metadata": {
        "id": "b5KRma2s5l7r",
        "colab_type": "code",
        "outputId": "af60fff4-ce32-45aa-967e-f60113cfffe5",
        "colab": {
          "base_uri": "https://localhost:8080/",
          "height": 197
        }
      },
      "source": [
        "a = soup.find(\"div\", attrs={\"class\": \"article-content\"}, recursive=True)\n",
        "texto = '\\n'.join([x.getText() for x in a.find_all('p')])\n",
        "print(texto)"
      ],
      "execution_count": 0,
      "outputs": [
        {
          "output_type": "error",
          "ename": "AttributeError",
          "evalue": "ignored",
          "traceback": [
            "\u001b[0;31m---------------------------------------------------------------------------\u001b[0m",
            "\u001b[0;31mAttributeError\u001b[0m                            Traceback (most recent call last)",
            "\u001b[0;32m<ipython-input-30-82adb7b372b0>\u001b[0m in \u001b[0;36m<module>\u001b[0;34m()\u001b[0m\n\u001b[1;32m      1\u001b[0m \u001b[0ma\u001b[0m \u001b[0;34m=\u001b[0m \u001b[0msoup\u001b[0m\u001b[0;34m.\u001b[0m\u001b[0mfind\u001b[0m\u001b[0;34m(\u001b[0m\u001b[0;34m\"div\"\u001b[0m\u001b[0;34m,\u001b[0m \u001b[0mattrs\u001b[0m\u001b[0;34m=\u001b[0m\u001b[0;34m{\u001b[0m\u001b[0;34m\"class\"\u001b[0m\u001b[0;34m:\u001b[0m \u001b[0;34m\"article-content\"\u001b[0m\u001b[0;34m}\u001b[0m\u001b[0;34m,\u001b[0m \u001b[0mrecursive\u001b[0m\u001b[0;34m=\u001b[0m\u001b[0;32mTrue\u001b[0m\u001b[0;34m)\u001b[0m\u001b[0;34m\u001b[0m\u001b[0;34m\u001b[0m\u001b[0m\n\u001b[0;32m----> 2\u001b[0;31m \u001b[0mtexto\u001b[0m \u001b[0;34m=\u001b[0m \u001b[0;34m'\\n'\u001b[0m\u001b[0;34m.\u001b[0m\u001b[0mjoin\u001b[0m\u001b[0;34m(\u001b[0m\u001b[0;34m[\u001b[0m\u001b[0mx\u001b[0m\u001b[0;34m.\u001b[0m\u001b[0mgetText\u001b[0m\u001b[0;34m(\u001b[0m\u001b[0;34m)\u001b[0m \u001b[0;32mfor\u001b[0m \u001b[0mx\u001b[0m \u001b[0;32min\u001b[0m \u001b[0ma\u001b[0m\u001b[0;34m.\u001b[0m\u001b[0mfind_all\u001b[0m\u001b[0;34m(\u001b[0m\u001b[0;34m'p'\u001b[0m\u001b[0;34m)\u001b[0m\u001b[0;34m]\u001b[0m\u001b[0;34m)\u001b[0m\u001b[0;34m\u001b[0m\u001b[0;34m\u001b[0m\u001b[0m\n\u001b[0m\u001b[1;32m      3\u001b[0m \u001b[0mprint\u001b[0m\u001b[0;34m(\u001b[0m\u001b[0mtexto\u001b[0m\u001b[0;34m)\u001b[0m\u001b[0;34m\u001b[0m\u001b[0;34m\u001b[0m\u001b[0m\n",
            "\u001b[0;31mAttributeError\u001b[0m: 'NoneType' object has no attribute 'find_all'"
          ]
        }
      ]
    },
    {
      "cell_type": "code",
      "metadata": {
        "id": "fChlJGl38TNt",
        "colab_type": "code",
        "outputId": "38b46706-8232-45fc-ecdb-cb945a1f4413",
        "colab": {
          "base_uri": "https://localhost:8080/",
          "height": 34
        }
      },
      "source": [
        "links = soup.find(\"ul\",  attrs={\"class\": \"home-menu\"}).find_all(\"li\", attrs={\"class\": \"link\"})\n",
        "links[0]"
      ],
      "execution_count": 0,
      "outputs": [
        {
          "output_type": "execute_result",
          "data": {
            "text/plain": [
              "<li class=\"link first\"><a href=\"/archivo\">Lo último</a></li>"
            ]
          },
          "metadata": {
            "tags": []
          },
          "execution_count": 58
        }
      ]
    },
    {
      "cell_type": "markdown",
      "metadata": {
        "id": "3PhvdNU8KwDn",
        "colab_type": "text"
      },
      "source": [
        "## La República"
      ]
    },
    {
      "cell_type": "markdown",
      "metadata": {
        "id": "_WpR8dSEK48X",
        "colab_type": "text"
      },
      "source": [
        "** The Guardian"
      ]
    },
    {
      "cell_type": "code",
      "metadata": {
        "id": "W6Dh_yqpP1gj",
        "colab_type": "code",
        "colab": {}
      },
      "source": [
        "url = \"https://www.theguardian.com/uk\"\n",
        "# Request\n",
        "r1 = requests.get(url)\n",
        "r1.status_code\n",
        "\n",
        "# We'll save in coverpage the cover page content\n",
        "coverpage = r1.content\n",
        "\n",
        "# Soup creation\n",
        "soup1 = BeautifulSoup(coverpage, 'html5lib')\n",
        "\n",
        "# News identification\n",
        "coverpage_news = soup1.find_all('h3', class_='fc-item__title')\n",
        "# coverpage_news = soup1.find_all('h3')\n",
        "\n",
        "len(coverpage_news)\n",
        "coverpage_news"
      ],
      "execution_count": 0,
      "outputs": []
    },
    {
      "cell_type": "markdown",
      "metadata": {
        "id": "RVj5PCOfMPPY",
        "colab_type": "text"
      },
      "source": [
        "## Extrayendo diferentes noticias de *La República*"
      ]
    },
    {
      "cell_type": "code",
      "metadata": {
        "id": "0xtqsEb8LBHv",
        "colab_type": "code",
        "outputId": "7761dea6-553c-40c0-b251-8f5449ebd161",
        "colab": {
          "base_uri": "https://localhost:8080/",
          "height": 122
        }
      },
      "source": [
        "import requests\n",
        "url = ' https://larepublica.pe/pf/api/v3/content/fetch/lr-consulta?query={\"source\":\"spotlight\"}'\n",
        "response = requests.get(url)\n",
        "j = response.json()[\"data\"]\n",
        "# print(j)\n",
        "for x in j:\n",
        "  print(x[\"item_url\"])"
      ],
      "execution_count": 0,
      "outputs": [
        {
          "output_type": "stream",
          "text": [
            "https://larepublica.pe/politica/2019/09/14/martin-vizcarra-esperamos-que-alejandro-toledo-sea-extraditado-el-proximo-ano-adelanto-de-elecciones/\n",
            "https://larepublica.pe/politica/2019/09/14/keiko-fujimori-rafael-vela-genera-suspicacias-prontitud-con-la-que-se-vera-habeas-corpus-de-la-lideresa-de-fuerza-popular/\n",
            "https://larepublica.pe/sociedad/2019/09/14/ordenan-demolicion-del-hotel-sheraton-por-danar-muros-incas-en-cusco/\n",
            "https://larepublica.pe/sociedad/2019/09/14/resultados-examen-de-admision-san-marcos-2020-i-lista-de-ingresantes-2019-sabado-oca-unmsm-atmp/\n",
            "https://larepublica.pe/mundo/2019/09/13/brasil-nino-con-autismo-poliglota-habla-con-la-republica-rafael-lancer-mayer-juli-lanser-mayer-tea-hiperconcentracion-hiperfoco/\n"
          ],
          "name": "stdout"
        }
      ]
    },
    {
      "cell_type": "code",
      "metadata": {
        "id": "8NVDkA2zirGU",
        "colab_type": "code",
        "colab": {}
      },
      "source": [
        ""
      ],
      "execution_count": 0,
      "outputs": []
    },
    {
      "cell_type": "code",
      "metadata": {
        "id": "FWJB-ek95bRY",
        "colab_type": "code",
        "colab": {}
      },
      "source": [
        "import urllib\n",
        "import requests\n",
        "from bs4 import BeautifulSoup\n",
        "\n",
        "url = 'https://elcomercio.pe/'\n",
        "response = requests.get(url)\n",
        "\n",
        "soup = BeautifulSoup(response.text, \"html.parser\")"
      ],
      "execution_count": 0,
      "outputs": []
    },
    {
      "cell_type": "code",
      "metadata": {
        "id": "lRS6pK3_90MP",
        "colab_type": "code",
        "outputId": "2a994ba2-7047-41a8-bc06-cdd6c80604f8",
        "colab": {
          "base_uri": "https://localhost:8080/",
          "height": 71
        }
      },
      "source": [
        "lista = []\n",
        "for link in soup.find_all('a'):\n",
        "  slash = link.get('href').split(\"/\")\n",
        "  if len(slash) > 1 and link.get('href')[0]==\"/\" and len(slash) > 0:\n",
        "    lista.append(slash[1])\n",
        "\n",
        "tags = list(set(lista))[1:]\n",
        "print(tags)\n",
        "urls = [url+x for x in tags]\n",
        "print(urls)"
      ],
      "execution_count": 0,
      "outputs": [
        {
          "output_type": "stream",
          "text": [
            "['deporte-total', 'somos', 'vamos', 'opinion', 'politica-integrada-de-gestion', 'lima', 'viu', 'archivo', 'peru', 'gastronomia', 'lifweek', 'oficinas-concesionarias', 'procedimiento-arco', 'principios-rectores', 'noticias', 'cartelera', 'politica', 'autor', 'juntos-contra-anemia', 'casa-y-mas', 'mundo', 'luces', 'politica-de-cookies', 'economia', 'terminos-y-condiciones', 'politicas-privacidad', 'ruedas-tuercas', 'tecnologia', 'tvmas', 'archivo-elcomercio']\n",
            "['https://elcomercio.pe/deporte-total', 'https://elcomercio.pe/somos', 'https://elcomercio.pe/vamos', 'https://elcomercio.pe/opinion', 'https://elcomercio.pe/politica-integrada-de-gestion', 'https://elcomercio.pe/lima', 'https://elcomercio.pe/viu', 'https://elcomercio.pe/archivo', 'https://elcomercio.pe/peru', 'https://elcomercio.pe/gastronomia', 'https://elcomercio.pe/lifweek', 'https://elcomercio.pe/oficinas-concesionarias', 'https://elcomercio.pe/procedimiento-arco', 'https://elcomercio.pe/principios-rectores', 'https://elcomercio.pe/noticias', 'https://elcomercio.pe/cartelera', 'https://elcomercio.pe/politica', 'https://elcomercio.pe/autor', 'https://elcomercio.pe/juntos-contra-anemia', 'https://elcomercio.pe/casa-y-mas', 'https://elcomercio.pe/mundo', 'https://elcomercio.pe/luces', 'https://elcomercio.pe/politica-de-cookies', 'https://elcomercio.pe/economia', 'https://elcomercio.pe/terminos-y-condiciones', 'https://elcomercio.pe/politicas-privacidad', 'https://elcomercio.pe/ruedas-tuercas', 'https://elcomercio.pe/tecnologia', 'https://elcomercio.pe/tvmas', 'https://elcomercio.pe/archivo-elcomercio']\n"
          ],
          "name": "stdout"
        }
      ]
    },
    {
      "cell_type": "code",
      "metadata": {
        "id": "TMFlXRXPErEs",
        "colab_type": "code",
        "outputId": "264647c0-1f4b-4c2e-8cc5-8d2fe9de2087",
        "colab": {
          "base_uri": "https://localhost:8080/",
          "height": 901
        }
      },
      "source": [
        "url = 'https://elcomercio.pe/lima'\n",
        "response = requests.get(url)\n",
        "\n",
        "soup = BeautifulSoup(response.text, \"html.parser\")\n",
        "\n",
        "divs = [s.find(\"div\").find(\"div\") for s in soup.find(\"body\").find_all(\"div\") if s.find(\"div\") != None]\n",
        "aas = [d.find_all(\"div\")[1].find(\"a\") for d in divs if d != None and len(d.find_all(\"div\"))>1][1:]\n",
        "urls = [\"https://elcomercio.pe/\" + a.get(\"href\") for a in aas]\n",
        "urls"
      ],
      "execution_count": 0,
      "outputs": [
        {
          "output_type": "execute_result",
          "data": {
            "text/plain": [
              "['https://elcomercio.pe//lima/policiales/',\n",
              " 'https://elcomercio.pe//lima/policiales/',\n",
              " 'https://elcomercio.pe//lima/policiales/chorrillos-conductor-arrastro-a-ladron-que-intento-robarle-celular-video-noticia/',\n",
              " 'https://elcomercio.pe//lima/senamhi-lima-soportara-una-temperatura-minima-de-14c-el-viernes-27-de-setiembre-noticia/',\n",
              " 'https://elcomercio.pe//lima/sucesos/comunidad-shipibo-konibo-exige-ejecucion-de-proyecto-en-cantagallo-noticia/',\n",
              " 'https://elcomercio.pe//lima/policiales/magdalena-caso-de-mujer-asesinada-en-av-del-ejercito-no-se-trataria-de-un-ajuste-de-cuentas-noticia/',\n",
              " 'https://elcomercio.pe//lima/judiciales/peter-ferrari-peru-accede-a-pedido-de-eeuu-para-extraditar-a-investigado-por-lavado-de-activos-noticia/',\n",
              " 'https://elcomercio.pe//lima/sucesos/cantagallo-comunidad-y-autoridades-de-vivienda-entablaran-hoy-un-mesa-de-dialogo-noticia/',\n",
              " 'https://elcomercio.pe//lima/descuartizamiento-en-smp-el-perfil-psicologico-de-abraham-perozo-conocido-como-guason-noticia/',\n",
              " 'https://elcomercio.pe//lima/accidentes/san-borja-tres-heridos-tras-aparatoso-accidente-en-la-av-javier-prado-noticia/',\n",
              " 'https://elcomercio.pe//lima/sucesos/sis-asegura-que-menores-con-insuficiencia-renal-cronica-no-quedaran-desatendidos-noticia/',\n",
              " 'https://elcomercio.pe//lima/policiales/sjl-delincuentes-matan-a-dueno-de-bar-que-salio-en-defensa-de-su-esposa-durante-asalto-noticia/',\n",
              " 'https://elcomercio.pe//lima/transporte/municipalidad-de-lima-ampliara-carril-para-ciclistas-hasta-el-rimac-este-domingo-noticia/',\n",
              " 'https://elcomercio.pe//lima/transporte/carretera-central-construiran-puente-vehicular-ante-cierre-por-obras-del-linea-2-del-metro-de-lima-noticia/',\n",
              " 'https://elcomercio.pe//lima/sucesos/plaza-san-martin-asi-se-realiza-la-marcha-a-favor-del-cierre-del-congreso-noticia/',\n",
              " 'https://elcomercio.pe//lima/sucesos/diez-ninos-que-requieren-dialisis-a-diario-en-riesgo-de-quedar-sin-atencion-noticia/',\n",
              " 'https://elcomercio.pe//lima/sucesos/a-que-se-refirio-george-forsyth-con-sus-ultimos-mensajes-en-redes-sociales-noticia/',\n",
              " 'https://elcomercio.pe//lima/policiales/ate-policia-nacional-capturo-a-sujeto-requisitoriado-por-el-delito-de-terrorismo-noticia/',\n",
              " 'https://elcomercio.pe//lima/sucesos/cantagallo-estudio-revela-que-terreno-no-es-apto-para-construccion-de-casas-afirma-ministerio-de-vivienda-noticia/',\n",
              " 'https://elcomercio.pe//lima/seguridad/senor-de-los-milagros-desplegara-1600-serenos-durante-recorridos-de-octubre-y-noviembre-noticia/',\n",
              " 'https://elcomercio.pe//lima/judiciales/crimen-en-san-martin-de-porres-fiscalia-pide-18-meses-de-prision-preventiva-contra-dos-implicados-noticia/',\n",
              " 'https://elcomercio.pe//lima/policiales/ate-intervienen-avicola-donde-llenaban-con-agua-a-los-pollos-para-aumentar-su-peso-noticia/',\n",
              " 'https://elcomercio.pe//lima/marcha-por-el-agua-movilizacion-contra-privatizacion-de-sedapal-intenta-llegar-a-ministerio-de-vivienda-en-san-isidro-noticia/',\n",
              " 'https://elcomercio.pe//lima/hospital-sergio-bernales-instalan-modulo-para-atender-a-menores-victimas-de-maltrato-noticia/',\n",
              " 'https://elcomercio.pe//lima/seguridad/control-migratorio-en-miraflores-que-hay-detras-de-las-intervenciones-a-extranjeros-noticia/',\n",
              " 'https://elcomercio.pe//lima/policia-detiene-a-presuntos-delincuentes-que-transfirieron-irregularmente-casi-us-2-millones-a-sus-cuentas-noticia/',\n",
              " 'https://elcomercio.pe//lima/judiciales/peter-ferrari-saldra-de-prision-disponen-que-use-grillete-electronico-por-12-meses-noticia/',\n",
              " 'https://elcomercio.pe//lima/policiales/crimen-en-san-martin-de-porres-ellos-integrarian-la-banda-implicada-en-descuartizamiento-organigrama-noticia/',\n",
              " 'https://elcomercio.pe//lima/obras/linea-2-del-metro-de-lima-todos-los-tramos-cerrados-en-la-carretera-central-y-el-callao-para-las-futuras-estaciones-noticia/',\n",
              " 'https://elcomercio.pe//lima/cantagallo-comunidad-shipibo-conibo-retorno-al-terreno-que-desocuparon-en-el-2017-video-noticia/',\n",
              " 'https://elcomercio.pe//lima/sucesos/cantagallo-recuento-promesas-incumplidas-comunidad-shipibo-conibo-noticia-ecpm-647409-noticia/',\n",
              " 'https://elcomercio.pe//lima/senamhi-lima-soportara-una-temperatura-minima-de-14c-hoy-jueves-26-de-setiembre-noticia/',\n",
              " 'https://elcomercio.pe//lima/policiales/balacera-en-surco-sujeto-detenido-es-un-excomplice-de-caracol-noticia/',\n",
              " 'https://elcomercio.pe//lima/pico-y-placa-para-este-jueves-calles-restringidas-y-que-vehiculos-no-pueden-circular-noticia/',\n",
              " 'https://elcomercio.pe//lima/policiales/descuartizamiento-en-smp-pnp-confirma-que-doble-crimen-fue-por-venta-de-droga-y-cobro-de-cupos-noticia/',\n",
              " 'https://elcomercio.pe//lima/transporte/mtc-exhorto-a-autoridades-a-fiscalizar-motos-que-brindan-servicio-ilegal-de-taxis-noticia/',\n",
              " 'https://elcomercio.pe//lima/policiales/magdalena-mujer-fue-asesinada-a-balazos-durante-un-ataque-en-la-av-del-ejercito-noticia/',\n",
              " 'https://elcomercio.pe//lima/policiales/balacera-en-surco-detienen-a-sospechoso-en-intento-de-robo-que-acabo-con-la-muerte-de-una-mujer-noticia/',\n",
              " 'https://elcomercio.pe//lima/judiciales/pastor-evangelico-pide-una-indemnizacion-de-s-25-millones-al-juez-richard-concepcion-carhuancho-noticia/',\n",
              " 'https://elcomercio.pe//lima/seguridad/cambistas-en-lima-que-distritos-prohiben-esta-actividad-en-la-via-publica-noticia/',\n",
              " 'https://elcomercio.pe//lima/judiciales/adolfo-bazan-gutierrez-poder-judicial-analizara-este-viernes-el-pedido-de-prision-preventiva-para-abogado-noticia/',\n",
              " 'https://elcomercio.pe//lima/accidentes/la-victoria-camion-se-estrella-y-derrumba-pared-de-instituto-jose-pardo-video-noticia/',\n",
              " 'https://elcomercio.pe//lima/policiales/quinto-grupo-de-venezolanos-con-antecedentes-penales-fue-expulsado-del-pais-noticia/',\n",
              " 'https://elcomercio.pe//lima/la-molina-instalan-modulos-de-rescate-cardiaco-para-atender-a-vecinos-en-casos-de-emergencia-noticia/',\n",
              " 'https://elcomercio.pe//lima/sucesos/mininter-denunciaran-a-mujer-que-uso-nombre-de-coronel-para-amedrentar-a-serenos-y-fiscalizadores-de-ate-noticia/',\n",
              " 'https://elcomercio.pe//lima/senamhi-lima-soportara-una-temperatura-minima-de-14c-hoy-miercoles-25-de-setiembre-noticia/',\n",
              " 'https://elcomercio.pe//lima/sucesos/medicos-de-ves-salvaron-a-bebe-cuyo-estomago-se-desplazo-hacia-el-torax-noticia/',\n",
              " 'https://elcomercio.pe//lima/municipalidad-de-lima-prepara-ordenanza-que-prohibira-construcciones-en-una-franja-de-la-costa-verde-noticia/',\n",
              " 'https://elcomercio.pe//lima/poder-judicial-usuarios-pueden-programar-citas-con-juez-a-cargo-de-su-proceso-a-traves-de-aplicativo-online-noticia/',\n",
              " 'https://elcomercio.pe//lima/transporte/pico-y-placa-para-camiones-jorge-munoz-senala-que-no-hay-razones-para-realizar-paro-nacional-de-transportistas-noticia/',\n",
              " 'https://elcomercio.pe//lima/sucesos/ate-mujer-amenaza-y-lanza-insultos-racistas-a-fiscalizadores-durante-una-operacion-video-noticia/',\n",
              " 'https://elcomercio.pe//lima/pico-y-placa-para-este-miercoles-calles-restringidas-y-que-vehiculos-no-pueden-circular-noticia/']"
            ]
          },
          "metadata": {
            "tags": []
          },
          "execution_count": 4
        }
      ]
    },
    {
      "cell_type": "code",
      "metadata": {
        "id": "GXdd2VUH_VW6",
        "colab_type": "code",
        "outputId": "6196d018-ec1e-4119-b3fd-99357cc34c21",
        "colab": {
          "base_uri": "https://localhost:8080/",
          "height": 34
        }
      },
      "source": [
        ""
      ],
      "execution_count": 0,
      "outputs": [
        {
          "output_type": "stream",
          "text": [
            "[]\n"
          ],
          "name": "stdout"
        }
      ]
    },
    {
      "cell_type": "code",
      "metadata": {
        "id": "m8cJf8WrBCAs",
        "colab_type": "code",
        "outputId": "14867322-6079-47f1-972e-6e0e429159f3",
        "colab": {
          "base_uri": "https://localhost:8080/",
          "height": 54
        }
      },
      "source": [
        "import urllib\n",
        "from bs4 import BeautifulSoup\n",
        "\n",
        "url =  \"https://elcomercio.pe//lima/sucesos/cantagallo-comunidad-y-autoridades-de-vivienda-entablaran-hoy-un-mesa-de-dialogo-noticia/\"\n",
        "response = requests.get(url)\n",
        "\n",
        "soup = BeautifulSoup(response.text, \"html.parser\")\n",
        "\n",
        "ps = [s.find_all(\"p\") for s in soup.find_all(\"section\")][0]\n",
        "news = \" \".join([p.getText() for p in ps][1:-1])\n",
        "news\n",
        "#   print([t for t in p.find_all(\"p\")])\n",
        "# [p for p in ps]\n",
        "# divs = [s.find(\"div\").find(\"div\") for s in soup.find(\"body\").find_all(\"div\") if s.find(\"div\") != None]\n",
        "\n"
      ],
      "execution_count": 0,
      "outputs": [
        {
          "output_type": "execute_result",
          "data": {
            "text/plain": [
              "'El Ministerio de Vivienda recibirá hoy, en la sede del sector, a los dirigentes de la comunidad shipibo-conibo de Cantagallo, en el Rímac, a fin de que ambas partes expongan claramente sus posiciones respecto al proyecto habitacional en esta zona, anunciado por la citada cartera tras el incendio ocurrido en noviembre del 2016, el cual afectó 430 viviendas y dejó en la calle a decenas de familias. ► Cantagallo: un recuento de las promesas incumplidas a la comunidad shipibo-conibo ► Cantagallo: comunidad shipibo-conibo retornó al terreno que desocuparon en el 2017 | VIDEO Durante la madrugada de ayer, más de 200 familias de la referida comunidad shipibo-conibo retornaron a Cantagallo tras denunciar que el Ministerio de Vivienda anunció la cancelación del proyecto habitacional en la zona. El plan contempla el levantamiento de 238 casas a través del programa Techo Propio. En abril de este año, el sector Vivienda informó que en octubre se iniciarían las obras Sin embargo, el ministerio nuevamente volvió a aplazar el proyecto e informó aquella vez que este comenzaría en enero de 2020. Los miembros de la comunidad shipibo-conibo manifestaron que decidieron retornar al terreno -del que son posesionarios desde el 2007- porque se sienten defraudados por el Estado. En un recorrido por este lugar, El Comercio constató que se han colocado estacas y piedras en algunos sectores, incluso, ya hay familias que han levantado carpas y toldos. César Maynas, jefe de la comunidad, dijo a este Diario que el Ministerio de Vivienda les hizo llegar un informe que señala que esta parte del terreno de Cantagallo no es apto para construir. “Después del incendio, el entonces presidente Pedro Pablo Kuczynski vino a la comunidad y prometió que iban a construir un proyecto de vivienda para la comunidad de Cantagallo. Han pasado tres años, pero hasta el momento no se ha hecho nada. El viernes pasado hemos tenido reunión con el Ministerio de Vivienda donde nos informa de que el estudio de suelo y subsuelo arroja que hay contaminación de arsénico y plomo en esta zona”, indicó. Sin embargo, Maynas afirmó que el Centro Peruano Japonés de Investigaciones Sísmicas y Mitigación de Desastres (CISMID) había realizado un estudio tras el incendio en el que precisaba que el terreno sí era apto. “Nos prometieron que cada uno iba a tener su terreno y su título de propiedad, pero hasta la fecha no han cumplido. Hemos perdido la credibilidad en el Ministerio de Vivienda”, expresó. -Reunión- Alrededor del mediodía, autoridades del sector Vivienda llegaron hasta Cantagallo para reunirse con la comunidad y escuchar sus demandas. El viceministro de Vivienda y Urbanismo, David Alfonso Ramos López, precisó que el proyecto habitacional no ha sido cancelado, sino que continúa, y que actualmente se están buscando las vías necesarias para cumplir con las promesas hechas en años anteriores por la cartera ministerial. “Retomemos el día de mañana el compromiso de que vamos a escuchar la propuesta de sus dirigentes y así seguir con el proyecto. Este no se ha cancelado, este continúa, sino que estamos viendo las alternativas viables para que ustedes logren, no solo la titulación, sino todo lo que se les ofreció, casas dignas con servicios básicos y áreas verdes”, explicó el funcionario. La congresistas Marisa Glave también llegó hasta la zona y solicitó “mayor respeto” por parte del Gobierno hacia la comunidad shipibo-conibo, ya que esta solo viene reclamando lo que no se ha cumplido hasta el momento. Asimismo, recalcó que ellos no han invadido el terreno, pues este les pertenece. Anuncios de interés Recomendado por: Anuncios de interés Recomendado por:'"
            ]
          },
          "metadata": {
            "tags": []
          },
          "execution_count": 43
        }
      ]
    },
    {
      "cell_type": "code",
      "metadata": {
        "id": "tqt9BGQQ5z7A",
        "colab_type": "code",
        "outputId": "2346897b-0283-42e8-e827-0dc92150511c",
        "colab": {
          "base_uri": "https://localhost:8080/",
          "height": 71
        }
      },
      "source": [
        "lista = []\n",
        "for link in soup.find_all('a'):\n",
        "  slash = link.get('href').split(\"/\")\n",
        "  if len(slash) > 1 and link.get('href')[0]==\"/\" and len(slash) > 0:\n",
        "    lista.append(slash[1])\n",
        "\n",
        "tags = list(set(lista))[1:]\n",
        "print(tags)\n",
        "urls = [url+x for x in tags]\n",
        "print(urls)"
      ],
      "execution_count": 0,
      "outputs": [
        {
          "output_type": "stream",
          "text": [
            "['cartelera', 'oficinas-concesionarias', 'procedimiento-arco', 'viu', 'noticias', 'lima', 'archivo-elcomercio', 'archivo', 'peru', 'opinion', 'politicas-privacidad', 'politica-de-cookies', 'economia', 'vamos', 'deporte-total', 'videos', 'tvmas', 'lifweek', 'terminos-y-condiciones', 'somos', 'luces', 'juntos-contra-anemia', 'principios-rectores', 'politica-integrada-de-gestion', 'casa-y-mas', 'mundo', 'tecnologia', 'ruedas-tuercas', 'politica', 'autor']\n",
            "['https://elcomercio.pe/cartelera', 'https://elcomercio.pe/oficinas-concesionarias', 'https://elcomercio.pe/procedimiento-arco', 'https://elcomercio.pe/viu', 'https://elcomercio.pe/noticias', 'https://elcomercio.pe/lima', 'https://elcomercio.pe/archivo-elcomercio', 'https://elcomercio.pe/archivo', 'https://elcomercio.pe/peru', 'https://elcomercio.pe/opinion', 'https://elcomercio.pe/politicas-privacidad', 'https://elcomercio.pe/politica-de-cookies', 'https://elcomercio.pe/economia', 'https://elcomercio.pe/vamos', 'https://elcomercio.pe/deporte-total', 'https://elcomercio.pe/videos', 'https://elcomercio.pe/tvmas', 'https://elcomercio.pe/lifweek', 'https://elcomercio.pe/terminos-y-condiciones', 'https://elcomercio.pe/somos', 'https://elcomercio.pe/luces', 'https://elcomercio.pe/juntos-contra-anemia', 'https://elcomercio.pe/principios-rectores', 'https://elcomercio.pe/politica-integrada-de-gestion', 'https://elcomercio.pe/casa-y-mas', 'https://elcomercio.pe/mundo', 'https://elcomercio.pe/tecnologia', 'https://elcomercio.pe/ruedas-tuercas', 'https://elcomercio.pe/politica', 'https://elcomercio.pe/autor']\n"
          ],
          "name": "stdout"
        }
      ]
    },
    {
      "cell_type": "code",
      "metadata": {
        "id": "MyNpRsyo9nkv",
        "colab_type": "code",
        "outputId": "9be6bca6-7d93-4cd0-eacd-48f197dab283",
        "colab": {
          "base_uri": "https://localhost:8080/",
          "height": 1000
        }
      },
      "source": [
        "url = \"https://elcomercio.pe/\" + \"lima\"\n",
        "response = requests.get(url)\n",
        "soup = BeautifulSoup(response.text, \"html.parser\")\n",
        "\n",
        "lista2 = []\n",
        "for link in soup.find_all('a'):\n",
        "  if \"lima\" in link.get('href'):\n",
        "    slash = link.get('href').split(\"/\")\n",
        "    if len(slash) > 1 and link.get('href')[0]==\"/\" and len(slash) > 0:\n",
        "      lista2.append(link.get('href'))\n",
        "list(set(lista2))"
      ],
      "execution_count": 0,
      "outputs": [
        {
          "output_type": "execute_result",
          "data": {
            "text/plain": [
              "['/lima/senamhi-lima-soportara-una-temperatura-minima-de-14c-hoy-miercoles-25-de-setiembre-noticia/',\n",
              " '/lima/marcha-por-el-agua-movilizacion-contra-privatizacion-de-sedapal-intenta-llegar-a-ministerio-de-vivienda-en-san-isidro-noticia/',\n",
              " '/lima/sucesos/puente-piedra-intervienen-fabrica-de-plasticos-por-tener-conexiones-electricas-clandestinas-noticia/',\n",
              " '/lima/transporte/',\n",
              " '/lima/sucesos/',\n",
              " '/lima/policiales/descuartizamiento-smp-hermana-cuartelero-hotel-pedira-proteccion-noticia-nndc-679363-noticia/',\n",
              " '/lima/',\n",
              " '/lima/policiales/balacera-en-surco-detienen-a-sospechoso-en-intento-de-robo-que-acabo-con-la-muerte-de-una-mujer-noticia/',\n",
              " '/lima/judiciales/adolfo-bazan-gutierrez-poder-judicial-analizara-este-viernes-el-pedido-de-prision-preventiva-para-abogado-noticia/',\n",
              " '/lima/accidentes/',\n",
              " '/lima/sucesos/ate-mujer-amenaza-y-lanza-insultos-racistas-a-fiscalizadores-durante-una-operacion-video-noticia/',\n",
              " '/lima/seguridad/',\n",
              " '/lima/pico-y-placa-para-este-miercoles-calles-restringidas-y-que-vehiculos-no-pueden-circular-noticia/',\n",
              " '/lima/sucesos/cerro-san-cristobal-desalojan-a-invasores-de-zona-destinada-a-teleferico-turistico-noticia/',\n",
              " '/lima/policiales/pachacamac-alcalde-denuncia-recibir-amenazas-inicio-gestion-video-noticia-nndc-679405-noticia/',\n",
              " '/lima/obras/linea-2-del-metro-de-lima-todos-los-tramos-cerrados-en-la-carretera-central-y-el-callao-para-las-futuras-estaciones-noticia/',\n",
              " '/lima/sucesos/cantagallo-recuento-promesas-incumplidas-comunidad-shipibo-conibo-noticia-ecpm-647409-noticia/',\n",
              " '/lima/sucesos/diez-ninos-que-requieren-dialisis-a-diario-en-riesgo-de-quedar-sin-atencion-noticia/',\n",
              " '/lima/sucesos/medicos-de-ves-salvaron-a-bebe-cuyo-estomago-se-desplazo-hacia-el-torax-noticia/',\n",
              " '/lima/surcanos-unidos-una-iniciativa-vecinal-que-busca-ayudar-a-las-autoridades-contra-la-criminalidad-ecpm-noticia/',\n",
              " '/lima/hospital-sergio-bernales-instalan-modulo-para-atender-a-menores-victimas-de-maltrato-noticia/',\n",
              " '/lima/policiales/balacera-mortal-en-surco-vecinos-advirtieron-peligro-debido-a-sospechoso-vehiculo-usado-por-delincuentes-noticia/',\n",
              " '/lima/municipalidad-de-lima-prepara-ordenanza-que-prohibira-construcciones-en-una-franja-de-la-costa-verde-noticia/',\n",
              " '/lima/seguridad/control-migratorio-en-miraflores-que-hay-detras-de-las-intervenciones-a-extranjeros-noticia/',\n",
              " '/lima/policiales/balacera-en-surco-sujeto-detenido-es-un-excomplice-de-caracol-noticia/',\n",
              " '/lima/seguridad/cambistas-en-lima-que-distritos-prohiben-esta-actividad-en-la-via-publica-noticia/',\n",
              " '/lima/sucesos/mininter-denunciaran-a-mujer-que-uso-nombre-de-coronel-para-amedrentar-a-serenos-y-fiscalizadores-de-ate-noticia/',\n",
              " '/lima/judiciales/crimen-en-san-martin-de-porres-fiscalia-pide-18-meses-de-prision-preventiva-contra-dos-implicados-noticia/',\n",
              " '/lima/judiciales/peter-ferrari-liberar-implicado-caso-oro-ilegal-lavado-activos-mineria-ilegal-judicial-fiscalia-noticia-ecpm-679397-noticia/',\n",
              " '/lima/sucesos/senamhi-lima-soportara-temperatura-minima-14-c-hoy-martes-24-setiembre-noticia-nndc-679236-noticia/',\n",
              " '/lima/pico-y-placa-para-este-jueves-calles-restringidas-y-que-vehiculos-no-pueden-circular-noticia/',\n",
              " '/lima/accidentes/los-olivos-un-muerto-tras-choque-de-auto-contra-poste-en-la-av-tomas-valle-noticia/',\n",
              " '/lima/seguridad/senor-de-los-milagros-desplegara-1600-serenos-durante-recorridos-de-octubre-y-noviembre-noticia/',\n",
              " '/lima/policiales/ate-intervienen-avicola-donde-llenaban-con-agua-a-los-pollos-para-aumentar-su-peso-noticia/',\n",
              " '/lima/cantagallo-comunidad-shipibo-conibo-retorno-al-terreno-que-desocuparon-en-el-2017-video-noticia/',\n",
              " '/lima/policia-detiene-a-presuntos-delincuentes-que-transfirieron-irregularmente-casi-us-2-millones-a-sus-cuentas-noticia/',\n",
              " '/lima/transporte/mtc-exhorto-a-autoridades-a-fiscalizar-motos-que-brindan-servicio-ilegal-de-taxis-noticia/',\n",
              " '/archivo/lima/',\n",
              " '/lima/judiciales/pastor-evangelico-pide-una-indemnizacion-de-s-25-millones-al-juez-richard-concepcion-carhuancho-noticia/',\n",
              " '/lima/policiales/san-juan-miraflores-detienen-implicados-asesinato-comerciante-cinco-meses-crimen-noticia-nndc-679304-noticia/',\n",
              " '/lima/obras/detectan-33-puntos-criticos-congestion-vehicular-cierre-carretera-central-linea-2-metro-lima-noticia-ecpm-679307-noticia/',\n",
              " '/lima/policiales/crimen-en-san-martin-de-porres-ellos-integrarian-la-banda-implicada-en-descuartizamiento-organigrama-noticia/',\n",
              " '/lima/judiciales/',\n",
              " '/lima/la-molina-instalan-modulos-de-rescate-cardiaco-para-atender-a-vecinos-en-casos-de-emergencia-noticia/',\n",
              " '/lima/policiales/quinto-grupo-de-venezolanos-con-antecedentes-penales-fue-expulsado-del-pais-noticia/',\n",
              " '/lima/accidentes/la-victoria-camion-se-estrella-y-derrumba-pared-de-instituto-jose-pardo-video-noticia/',\n",
              " '/lima/sucesos/lima-2019-conductores-de-juegos-panamericanos-denuncian-falta-de-pago-nndc-noticia/',\n",
              " '/lima/policiales/punta-negra-hallan-cadaver-hombre-panamericana-sur-fotos-noticia-nndc-679330-noticia/',\n",
              " '/lima/judiciales/peter-ferrari-saldra-de-prision-disponen-que-use-grillete-electronico-por-12-meses-noticia/',\n",
              " '/lima/sucesos/cantagallo-estudio-revela-que-terreno-no-es-apto-para-construccion-de-casas-afirma-ministerio-de-vivienda-noticia/',\n",
              " '/lima/policiales/ate-policia-nacional-capturo-a-sujeto-requisitoriado-por-el-delito-de-terrorismo-noticia/',\n",
              " '/lima/sucesos/pueblo-libre-clausuran-10-hostales-discoteca-condiciones-insalubres-noticia-nndc-679388-noticia/',\n",
              " '/lima/poder-judicial-usuarios-pueden-programar-citas-con-juez-a-cargo-de-su-proceso-a-traves-de-aplicativo-online-noticia/',\n",
              " '/lima/policiales/alan-maldonado-pardo-fiscalia-abre-investigacion-contra-actor-mexicano-por-presunto-trafico-de-drogas-noticia/',\n",
              " '/lima/senamhi-lima-soportara-una-temperatura-minima-de-14c-hoy-jueves-26-de-setiembre-noticia/',\n",
              " '/lima/sucesos/cantagallo-comunidad-y-autoridades-de-vivienda-entablaran-manana-mesa-de-dialogo-noticia/',\n",
              " '/lima/obras/puente-piedra-mas-de-58-mil-vecinos-contaran-con-agua-y-alcantarillado-noticia/',\n",
              " '/lima/policiales/magdalena-mujer-fue-asesinada-a-balazos-durante-un-ataque-en-la-av-del-ejercito-noticia/',\n",
              " '/lima/policiales/',\n",
              " '/lima/transporte/pico-y-placa-para-camiones-jorge-munoz-senala-que-no-hay-razones-para-realizar-paro-nacional-de-transportistas-noticia/',\n",
              " '/lima/policiales/surco-vecinos-realizan-vigilia-tras-muerte-de-mujer-durante-robo-de-vehiculo-noticia/',\n",
              " '/lima/obras/lince-que-se-esta-haciendo-por-recuperar-el-parque-ramon-castilla-noticia/',\n",
              " '/lima/policiales/intervienen-cuatro-presuntos-implicados-trata-menores-edad-video-noticia-nndc-679276-noticia/',\n",
              " '/lima/obras/',\n",
              " '/lima/policiales/descuartizamiento-en-smp-pnp-confirma-que-doble-crimen-fue-por-venta-de-droga-y-cobro-de-cupos-noticia/',\n",
              " '/lima/sucesos/a-que-se-refirio-george-forsyth-con-sus-ultimos-mensajes-en-redes-sociales-noticia/',\n",
              " '/lima/sucesos/callao-incendio-afecta-vivienda-jiron-apurimac-noticia-nndc-679418-noticia/']"
            ]
          },
          "metadata": {
            "tags": []
          },
          "execution_count": 100
        }
      ]
    }
  ]
}