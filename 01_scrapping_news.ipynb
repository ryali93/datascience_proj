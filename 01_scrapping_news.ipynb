{
  "nbformat": 4,
  "nbformat_minor": 0,
  "metadata": {
    "colab": {
      "name": "01_scrapping_news.ipynb",
      "version": "0.3.2",
      "provenance": [],
      "collapsed_sections": []
    },
    "kernelspec": {
      "name": "python3",
      "display_name": "Python 3"
    }
  },
  "cells": [
    {
      "cell_type": "markdown",
      "metadata": {
        "id": "wi5UCxEJKKpH",
        "colab_type": "text"
      },
      "source": [
        "# Scrapping de páginas de noticias"
      ]
    },
    {
      "cell_type": "markdown",
      "metadata": {
        "id": "iXn9m7z8Kpfn",
        "colab_type": "text"
      },
      "source": [
        "## El Comercio"
      ]
    },
    {
      "cell_type": "markdown",
      "metadata": {
        "id": "C6qJQIlKKOtX",
        "colab_type": "text"
      },
      "source": [
        "Importación de librerías"
      ]
    },
    {
      "cell_type": "code",
      "metadata": {
        "id": "FMHVKHYGxDzz",
        "colab_type": "code",
        "colab": {}
      },
      "source": [
        "import urllib\n",
        "import requests\n",
        "from bs4 import BeautifulSoup"
      ],
      "execution_count": 0,
      "outputs": []
    },
    {
      "cell_type": "code",
      "metadata": {
        "id": "QSpahr7PxGMp",
        "colab_type": "code",
        "colab": {}
      },
      "source": [
        "url = \"https://elcomercio.pe/vamos/mundo/son-conciertos-festivales-puedes-perder-2019-fotos-noticia-672560?ref=nota&ft=autoload\"\n",
        "response = requests.get(url)\n",
        "soup = BeautifulSoup(response.text)"
      ],
      "execution_count": 0,
      "outputs": []
    },
    {
      "cell_type": "code",
      "metadata": {
        "id": "Lu8hyP9DxceQ",
        "colab_type": "code",
        "outputId": "363482f5-66b5-4624-ffb6-0987c7305981",
        "colab": {
          "base_uri": "https://localhost:8080/",
          "height": 51
        }
      },
      "source": [
        "fecha_publ = soup.find(\"meta\",  property=\"article:published_time\")[\"content\"]\n",
        "tags = soup.find(\"meta\",  property=\"article:tag\")[\"content\"]\n",
        "print(fecha_publ)\n",
        "print(tags)"
      ],
      "execution_count": 0,
      "outputs": [
        {
          "output_type": "stream",
          "text": [
            "2019-09-09T23:33:00-05:00\n",
            "eventos, epicos, queda, 2019, son\n"
          ],
          "name": "stdout"
        }
      ]
    },
    {
      "cell_type": "markdown",
      "metadata": {
        "id": "tUW6BdSzKXT-",
        "colab_type": "text"
      },
      "source": [
        "Extrayendo el texto de una noticia de la web de **El Comercio**"
      ]
    },
    {
      "cell_type": "code",
      "metadata": {
        "id": "b5KRma2s5l7r",
        "colab_type": "code",
        "outputId": "c50da91e-d984-4b0a-f0b2-5eb6bd4c5b42",
        "colab": {
          "base_uri": "https://localhost:8080/",
          "height": 343
        }
      },
      "source": [
        "a = soup.find(\"div\", attrs={\"class\": \"article-content\"}, recursive=True)\n",
        "texto = '\\n'.join([x.getText() for x in a.find_all('p')])\n",
        "print(texto)"
      ],
      "execution_count": 0,
      "outputs": [
        {
          "output_type": "stream",
          "text": [
            "Luego de revisar los eventos más famosos del globo, te traemos una lista de celebraciones culturales, festivales de música e incluso fiestas extravagantes para que sumes experiencias únicas en lo que queda del 2019. \n",
            "►Las mujeres son las que más viajan por el Perú, revela estudio►Dos destinos peruanos figuran entre los diez más visitados de Latinoamérica\n",
            "SETIEMBREDel 5 al 15 se llevará a cabo el Festival Internacional de Cine de Toronto (Canadá), donde se proyectarán cerca de 400 filmes, tanto de reconocidas compañías como de realizadoras independientes. Una de las películas más esperadas es “Joker” del director estadounidense Todd Phillips. El ticket regular vale US$14. \n",
            "¿Aficionado a otro tipo de arte? Alemania celebra los 100 años de la Escuela Bauhaus. A lo largo del año se organizaron una serie de charlas y exposiciones, pero del 6 de setiembre al 27 de enero del 2020 se realizará la impresionante muestra “Original Bauhaus”, en Berlinische Galerie (US$13,30). Sorprenderán más de 1.000 piezas de colección y se analizará el ingenio detrás de 14 objetos icónicos. \n",
            "Ahora, los roqueros. Separen del 27 al 29 (o del 3 al 6 de octubre) porque hay “Rock in Río” en Brasil. Foo Fighters, Bon Jovi, Red Hot Chili Peppers y Whitesnake son algunos de los artistas confirmados. Boletos: US$150 cada día. \n",
            "(Foto: Shutterstock)\n",
            "Por otro lado, el domingo 29 se festeja Folsom Street Fair en San Francisco, Estados Unidos. Se trata del festival de cuero más concurrido del mundo (el año pasado asistieron más de 250 mil personas). Habrá fiestas y más de 200 puestos con juguetes fetichistas. Ingreso libre.\n",
            "OCTUBREEl cielo se llena de color durante el Albuquerque International Balloon Fiesta (del 5 al 13). Así, Valle del Río Grande, al sur de Texas (EE.UU.), es el epicentro de este festival de globos aerostáticos que incluye competencias de vuelos, concursos fotográficos y más. Entrada: US$10. \n",
            "En Inglaterra, en cambio, el mundo mágico de Mary Poppins vuelve en un musical en el Prince Edward Theatre de Londres (boletos desde US$22). La carismática niñera será interpretada por la actriz británica Zizi Strallen. El show va del 23 de octubre al 29 de marzo del 2020.\n",
            "Francia, por su parte, prepara una ambiciosa exposición por los 500 años de la muerte de uno de los máximos exponentes del renacimiento italiano: Leonardo Da Vinci. ¿Dónde? En el Museo de Louvre del 24 de octubre al 4 de febrero del 2020. Anotaciones, pinturas y dibujos del artista, así como investigaciones y críticas respecto de su obra configuran esta muestra imperdible (ticket: US$19). \n",
            "(Foto: Shutterstock)\n",
            "¿Algo de gastronomía? En Japón se le rendirá homenaje al ramen del 24 de octubre al 4 de noviembre. Tokio Ramen Show tendrá sopas con verduras y especias de cada región del país. Un bol costará US$8 y el ingreso es gratuito.\n",
            "NOVIEMBRELa Fiesta de la Independencia se celebra cada 11 de noviembre en la ciudad colombiana de Cartagena de Indias. Su autonomía de la corona española la festejan con comparsas tradicionales, desfile de carros alegóricos, comida típica y mucho baile. Es un jolgorio popular en el que no falta el certamen de belleza. Por cierto, es gratis. \n",
            "DICIEMBREUn estrambótico festival de música underground y arte contemporáneo ocurre en la India. Magnetic Fields va del 13 al 15 en el histórico hotel Alsisar Mahal. Los paquetes que incluyen el ticket y estancia de tres noches en una tienda de campaña cuestan desde US$264. Finalmente, en Colombia, el tributo a la salsa es la Feria de Cali (del 25 al 30). Hace más de 60 años se realiza este multitudinario evento que trae a más de 2.000 músicos y 1.800 bailarines. Hay concierto inaugural, salsódromos, feria artesanal y ¡es gratis!\n",
            "En el otro extremo del orbe, Tailandia se ilumina el día 13 en el Festival de los Faroles de Yi Peng. Miles de linternas hechas con papel de arroz vuelan por los cielos para honrar a Buda e iniciar un nuevo ciclo de vida. En resumen: un hermoso ritual místico. \n",
            "(Foto: Shutterstock)\n",
            "Cambiando de tema, si lo tuyo es el jazz, no puedes perderte el Festival Internacional Buenos Aires Jazz (del 19 al 24). Promete conciertos al aire libre, clases de baile y talleres para los amantes de este género. Reserva tu entrada en la web: festivales.buenosaires.gob.ar. \n",
            "Por último, Kew Gardens Christmas va del 20 de diciembre al 5 de enero en Inglaterra. Los jardines de Kew, ubicados al sudoeste de Londres, lucen destellantes por la llegada de la Navidad. Túneles, arcos y árboles se encienden con luces láser para crear un escenario mágico y acogedor. El boleto vale US$20.\n"
          ],
          "name": "stdout"
        }
      ]
    },
    {
      "cell_type": "code",
      "metadata": {
        "id": "fChlJGl38TNt",
        "colab_type": "code",
        "outputId": "38b46706-8232-45fc-ecdb-cb945a1f4413",
        "colab": {
          "base_uri": "https://localhost:8080/",
          "height": 34
        }
      },
      "source": [
        "links = soup.find(\"ul\",  attrs={\"class\": \"home-menu\"}).find_all(\"li\", attrs={\"class\": \"link\"})\n",
        "links[0]"
      ],
      "execution_count": 0,
      "outputs": [
        {
          "output_type": "execute_result",
          "data": {
            "text/plain": [
              "<li class=\"link first\"><a href=\"/archivo\">Lo último</a></li>"
            ]
          },
          "metadata": {
            "tags": []
          },
          "execution_count": 58
        }
      ]
    },
    {
      "cell_type": "markdown",
      "metadata": {
        "id": "3PhvdNU8KwDn",
        "colab_type": "text"
      },
      "source": [
        "## La República"
      ]
    },
    {
      "cell_type": "markdown",
      "metadata": {
        "id": "_WpR8dSEK48X",
        "colab_type": "text"
      },
      "source": [
        "** The Guardian"
      ]
    },
    {
      "cell_type": "code",
      "metadata": {
        "id": "W6Dh_yqpP1gj",
        "colab_type": "code",
        "colab": {}
      },
      "source": [
        "url = \"https://www.theguardian.com/uk\"\n",
        "# Request\n",
        "r1 = requests.get(url)\n",
        "r1.status_code\n",
        "\n",
        "# We'll save in coverpage the cover page content\n",
        "coverpage = r1.content\n",
        "\n",
        "# Soup creation\n",
        "soup1 = BeautifulSoup(coverpage, 'html5lib')\n",
        "\n",
        "# News identification\n",
        "coverpage_news = soup1.find_all('h3', class_='fc-item__title')\n",
        "# coverpage_news = soup1.find_all('h3')\n",
        "\n",
        "len(coverpage_news)\n",
        "coverpage_news"
      ],
      "execution_count": 0,
      "outputs": []
    },
    {
      "cell_type": "markdown",
      "metadata": {
        "id": "RVj5PCOfMPPY",
        "colab_type": "text"
      },
      "source": [
        "## Extrayendo diferentes noticias de *La República*"
      ]
    },
    {
      "cell_type": "code",
      "metadata": {
        "id": "0xtqsEb8LBHv",
        "colab_type": "code",
        "colab": {
          "base_uri": "https://localhost:8080/",
          "height": 122
        },
        "outputId": "7761dea6-553c-40c0-b251-8f5449ebd161"
      },
      "source": [
        "import requests\n",
        "url = ' https://larepublica.pe/pf/api/v3/content/fetch/lr-consulta?query={\"source\":\"spotlight\"}'\n",
        "response = requests.get(url)\n",
        "j = response.json()[\"data\"]\n",
        "# print(j)\n",
        "for x in j:\n",
        "  print(x[\"item_url\"])"
      ],
      "execution_count": 14,
      "outputs": [
        {
          "output_type": "stream",
          "text": [
            "https://larepublica.pe/politica/2019/09/14/martin-vizcarra-esperamos-que-alejandro-toledo-sea-extraditado-el-proximo-ano-adelanto-de-elecciones/\n",
            "https://larepublica.pe/politica/2019/09/14/keiko-fujimori-rafael-vela-genera-suspicacias-prontitud-con-la-que-se-vera-habeas-corpus-de-la-lideresa-de-fuerza-popular/\n",
            "https://larepublica.pe/sociedad/2019/09/14/ordenan-demolicion-del-hotel-sheraton-por-danar-muros-incas-en-cusco/\n",
            "https://larepublica.pe/sociedad/2019/09/14/resultados-examen-de-admision-san-marcos-2020-i-lista-de-ingresantes-2019-sabado-oca-unmsm-atmp/\n",
            "https://larepublica.pe/mundo/2019/09/13/brasil-nino-con-autismo-poliglota-habla-con-la-republica-rafael-lancer-mayer-juli-lanser-mayer-tea-hiperconcentracion-hiperfoco/\n"
          ],
          "name": "stdout"
        }
      ]
    }
  ]
}