{
  "nbformat": 4,
  "nbformat_minor": 0,
  "metadata": {
    "colab": {
      "name": "proyecto_datascience.ipynb",
      "version": "0.3.2",
      "provenance": [],
      "collapsed_sections": [],
      "toc_visible": true
    },
    "kernelspec": {
      "name": "python3",
      "display_name": "Python 3"
    }
  },
  "cells": [
    {
      "cell_type": "markdown",
      "metadata": {
        "id": "eLcC7kPudD83",
        "colab_type": "text"
      },
      "source": [
        "#Proyecto: visor de noticias actuales#\n",
        "\n",
        "El proyecto consta de procesos que se darán en el siguiente orden:\n",
        "- web scrapping\n",
        "- nlp para identificar lugares mediante NER\n",
        "- geocódigo para rescatar la ubicación por coordenadas de los lugares.\n",
        "- encapsular todo mediante django en un visor."
      ]
    },
    {
      "cell_type": "markdown",
      "metadata": {
        "id": "5SEab_DuhEzU",
        "colab_type": "text"
      },
      "source": [
        "## NLP NER##\n"
      ]
    },
    {
      "cell_type": "code",
      "metadata": {
        "id": "H3WAt8kUhTL6",
        "colab_type": "code",
        "colab": {}
      },
      "source": [
        "#instalamos librerías\n",
        "!pip install spacy\n",
        "!pip install pandas\n",
        "import spacy.cli\n",
        "import pandas as pd\n",
        "\n",
        "#instalamos las librerías\n",
        "!pip install geopandas\n",
        "!pip install arcgis\n",
        "!pip install folium\n",
        "\n",
        "spacy.cli.download(\"en_core_web_sm\")\n",
        "spacy.cli.download(\"es_core_news_sm\")"
      ],
      "execution_count": 0,
      "outputs": []
    },
    {
      "cell_type": "code",
      "metadata": {
        "id": "0Ohbjjv6jATo",
        "colab_type": "code",
        "colab": {}
      },
      "source": [
        "#cargamos el motor de nlp en español\n",
        "nlp_es = spacy.load('es_core_news_sm')"
      ],
      "execution_count": 0,
      "outputs": []
    },
    {
      "cell_type": "code",
      "metadata": {
        "id": "VRlpss8nkFAX",
        "colab_type": "code",
        "colab": {}
      },
      "source": [
        "#definimos el texto a analizar\n",
        "text = \"\"\"Esta tarde se reportó el hallazgo de una maleta y bolsas de basura con restos humanos en el interior. El objeto fue abandonado en la cuadra 1 Fausto Castañeta, en inmediaciones de la Plaza de Acho, en el distrito del Rímac.\n",
        "\n",
        "vecinos de la zona dieron aviso a las autoridades sobre la existencia de una maleta con restos humanos dentro. Se trata de tres piernas y dos brazos que se encuentran en la maleta negra para viaje. \n",
        "\n",
        "Además, junto a esto se encuentran dos bolsas negras de plástico con más restos humanos y prendas de vestir, informó la dirección policial de Lima Norte.\n",
        "\n",
        "En el lugar se hicieron presentes agentes de la Policía Nacional que acordonaron la zona, hasta la llegada de peritos de criminalistíca para el levantamiento de los restos cercenados. \n",
        "\n",
        "- Otros puntos -\n",
        "Este nuevo hallazgo se suma a los dos cuerpos que fueron encontrados en el exterminal de Fiori y a los restos cercenados que se descubrieron en el cruce de las avenidas Izaguirre y Universitaria, en el distrito de San Martín de Porres.\n",
        "\n",
        "La investigación por el hallazgo de estos cadáveres está a cargo de la Divincri Centro. \"\"\"\n",
        "    "
      ],
      "execution_count": 0,
      "outputs": []
    },
    {
      "cell_type": "code",
      "metadata": {
        "id": "Pntno9Fw7l0x",
        "colab_type": "code",
        "colab": {}
      },
      "source": [
        "doc= nlp_es(text)\n",
        "datf= dict()\n",
        "datf[\"name\"]=[]"
      ],
      "execution_count": 0,
      "outputs": []
    },
    {
      "cell_type": "code",
      "metadata": {
        "id": "0YJWROle7nyj",
        "colab_type": "code",
        "colab": {}
      },
      "source": [
        "for entity in doc.ents:\n",
        "    if entity.label_ == 'LOC':\n",
        "        datf[\"name\"].append(\"%s,Lima\"%entity.text)\n",
        "\n",
        "df= pd.DataFrame(datf)"
      ],
      "execution_count": 0,
      "outputs": []
    },
    {
      "cell_type": "markdown",
      "metadata": {
        "id": "6F8x0f9mdltT",
        "colab_type": "text"
      },
      "source": [
        "## Geocódigo##"
      ]
    },
    {
      "cell_type": "code",
      "metadata": {
        "id": "D91V5UT3fD-W",
        "colab_type": "code",
        "colab": {}
      },
      "source": [
        "import pandas as pd\n",
        "import geopandas as gpd\n",
        "from arcgis.gis import GIS\n",
        "from arcgis.geocoding import geocode, reverse_geocode\n",
        "from arcgis.geometry import Point"
      ],
      "execution_count": 0,
      "outputs": []
    },
    {
      "cell_type": "code",
      "metadata": {
        "id": "lplJ6oVX3Fle",
        "colab_type": "code",
        "colab": {}
      },
      "source": [
        "gis = GIS()\n",
        "df[\"x\"] = 0\n",
        "df[\"y\"] = 0\n",
        "df[\"Match_addr\"] = \"\"\n",
        "df[\"Score\"] = \"\"\n",
        "\n",
        "data = df[:]\n",
        "data = data.drop(data.index[:])\n",
        "\n",
        "def extractAddress(df, indice, idDf, address):\n",
        "    geocode_result = geocode(address = df.iloc[indice][address], as_featureset=True, max_locations=1)\n",
        "    \n",
        "    x = geocode_result.features[0]\n",
        "    gdpoint = x.as_dict[\"geometry\"]\n",
        "    attr = x.as_dict[\"attributes\"]\n",
        "    dataF = data.append(pd.Series([df.iloc[indice][address], gdpoint[\"x\"], gdpoint[\"y\"], attr[\"Match_addr\"], attr[\"Score\"]], index=[idDf, \"x\", \"y\", \"Match_addr\", \"Score\"] ), ignore_index=True)\n",
        "    return dataF"
      ],
      "execution_count": 0,
      "outputs": []
    },
    {
      "cell_type": "code",
      "metadata": {
        "id": "BLo435p88AWo",
        "colab_type": "code",
        "colab": {}
      },
      "source": [
        "for n in range(len(df)):\n",
        "    data = extractAddress(df, n, \"name\", \"name\")"
      ],
      "execution_count": 0,
      "outputs": []
    },
    {
      "cell_type": "code",
      "metadata": {
        "id": "sVknQCxMBxZL",
        "colab_type": "code",
        "outputId": "98d87ab4-b826-4256-fe30-2214dfb8c925",
        "colab": {
          "base_uri": "https://localhost:8080/",
          "height": 328
        }
      },
      "source": [
        "data"
      ],
      "execution_count": 0,
      "outputs": [
        {
          "output_type": "execute_result",
          "data": {
            "text/html": [
              "<div>\n",
              "<style scoped>\n",
              "    .dataframe tbody tr th:only-of-type {\n",
              "        vertical-align: middle;\n",
              "    }\n",
              "\n",
              "    .dataframe tbody tr th {\n",
              "        vertical-align: top;\n",
              "    }\n",
              "\n",
              "    .dataframe thead th {\n",
              "        text-align: right;\n",
              "    }\n",
              "</style>\n",
              "<table border=\"1\" class=\"dataframe\">\n",
              "  <thead>\n",
              "    <tr style=\"text-align: right;\">\n",
              "      <th></th>\n",
              "      <th>name</th>\n",
              "      <th>x</th>\n",
              "      <th>y</th>\n",
              "      <th>Match_addr</th>\n",
              "      <th>Score</th>\n",
              "    </tr>\n",
              "  </thead>\n",
              "  <tbody>\n",
              "    <tr>\n",
              "      <th>0</th>\n",
              "      <td>Plaza de Acho,Lima</td>\n",
              "      <td>-77.023270</td>\n",
              "      <td>-12.042070</td>\n",
              "      <td>Plaza Acho</td>\n",
              "      <td>99.97</td>\n",
              "    </tr>\n",
              "    <tr>\n",
              "      <th>1</th>\n",
              "      <td>distrito del Rímac,Lima</td>\n",
              "      <td>-77.032880</td>\n",
              "      <td>-12.029330</td>\n",
              "      <td>Del Rimac, Rimac, Lima</td>\n",
              "      <td>84.00</td>\n",
              "    </tr>\n",
              "    <tr>\n",
              "      <th>2</th>\n",
              "      <td>Lima Norte,Lima</td>\n",
              "      <td>-77.060440</td>\n",
              "      <td>-11.949630</td>\n",
              "      <td>Lima Norte</td>\n",
              "      <td>100.00</td>\n",
              "    </tr>\n",
              "    <tr>\n",
              "      <th>3</th>\n",
              "      <td>Policía Nacional,Lima</td>\n",
              "      <td>-76.934720</td>\n",
              "      <td>-12.067800</td>\n",
              "      <td>Policia Nacional, La Molina, Lima</td>\n",
              "      <td>100.00</td>\n",
              "    </tr>\n",
              "    <tr>\n",
              "      <th>4</th>\n",
              "      <td>Fiori,Lima</td>\n",
              "      <td>-77.060070</td>\n",
              "      <td>-12.009820</td>\n",
              "      <td>Fiori</td>\n",
              "      <td>100.00</td>\n",
              "    </tr>\n",
              "    <tr>\n",
              "      <th>5</th>\n",
              "      <td>Izaguirre,Lima</td>\n",
              "      <td>-77.100248</td>\n",
              "      <td>-11.834424</td>\n",
              "      <td>Pasaje Izaguirre, As. De Pequeños Avicultores ...</td>\n",
              "      <td>97.35</td>\n",
              "    </tr>\n",
              "    <tr>\n",
              "      <th>6</th>\n",
              "      <td>Universitaria,Lima</td>\n",
              "      <td>-77.008274</td>\n",
              "      <td>-11.856758</td>\n",
              "      <td>Avenida Universitaria, Carabayllo, Lima, 15319</td>\n",
              "      <td>97.35</td>\n",
              "    </tr>\n",
              "    <tr>\n",
              "      <th>7</th>\n",
              "      <td>distrito de San Martín de Porres,Lima</td>\n",
              "      <td>-77.085390</td>\n",
              "      <td>-12.010320</td>\n",
              "      <td>San Martín de Porres, Lima</td>\n",
              "      <td>87.18</td>\n",
              "    </tr>\n",
              "    <tr>\n",
              "      <th>8</th>\n",
              "      <td>Divincri Centro,Lima</td>\n",
              "      <td>-77.054440</td>\n",
              "      <td>-11.924470</td>\n",
              "      <td>Divincri</td>\n",
              "      <td>80.00</td>\n",
              "    </tr>\n",
              "  </tbody>\n",
              "</table>\n",
              "</div>"
            ],
            "text/plain": [
              "                                    name  ...   Score\n",
              "0                     Plaza de Acho,Lima  ...   99.97\n",
              "1                distrito del Rímac,Lima  ...   84.00\n",
              "2                        Lima Norte,Lima  ...  100.00\n",
              "3                  Policía Nacional,Lima  ...  100.00\n",
              "4                             Fiori,Lima  ...  100.00\n",
              "5                         Izaguirre,Lima  ...   97.35\n",
              "6                     Universitaria,Lima  ...   97.35\n",
              "7  distrito de San Martín de Porres,Lima  ...   87.18\n",
              "8                   Divincri Centro,Lima  ...   80.00\n",
              "\n",
              "[9 rows x 5 columns]"
            ]
          },
          "metadata": {
            "tags": []
          },
          "execution_count": 128
        }
      ]
    },
    {
      "cell_type": "markdown",
      "metadata": {
        "id": "6iLOG5ZHv0XH",
        "colab_type": "text"
      },
      "source": [
        "## Visualizamos los lugares encontrados##"
      ]
    },
    {
      "cell_type": "code",
      "metadata": {
        "id": "81Ob51fQv6oH",
        "colab_type": "code",
        "colab": {}
      },
      "source": [
        "import pandas as pd\n",
        "from geopandas import GeoDataFrame\n",
        "from shapely.geometry import Point\n",
        "import fiona"
      ],
      "execution_count": 0,
      "outputs": []
    },
    {
      "cell_type": "code",
      "metadata": {
        "id": "3P0ZCUPtxKMN",
        "colab_type": "code",
        "outputId": "8445c291-545e-48c8-e9ae-d62eebcc8b2f",
        "colab": {
          "base_uri": "https://localhost:8080/",
          "height": 286
        }
      },
      "source": [
        "geometry = [Point(xy) for xy in zip(data.x, data.y)]\n",
        "crs = {'init': 'epsg:4326'} #https://www.spatialreference.org/ref/epsg/4326/ %matplotlib inline\n",
        "geo_df = GeoDataFrame(data, crs=crs, geometry=geometry)\n",
        "geo_df.plot()"
      ],
      "execution_count": 0,
      "outputs": [
        {
          "output_type": "execute_result",
          "data": {
            "text/plain": [
              "<matplotlib.axes._subplots.AxesSubplot at 0x7f6c66db6978>"
            ]
          },
          "metadata": {
            "tags": []
          },
          "execution_count": 130
        },
        {
          "output_type": "display_data",
          "data": {
            "image/png": "[encoded data removed]",
            "text/plain": [
              "<Figure size 432x288 with 1 Axes>"
            ]
          },
          "metadata": {
            "tags": []
          }
        }
      ]
    },
    {
      "cell_type": "code",
      "metadata": {
        "id": "VSRzmGds0IaH",
        "colab_type": "code",
        "outputId": "00ea82b7-068c-47f9-ebf9-846073eb07f5",
        "colab": {
          "base_uri": "https://localhost:8080/",
          "height": 633
        }
      },
      "source": [
        "import folium\n",
        "\n",
        "gjson = geo_df.to_crs(epsg='4326').to_json()\n",
        "\n",
        "mapa = folium.Map([-12, -77], zoom_start=11, tiles='openstreetmap')\n",
        "points = folium.features.GeoJson(gjson)\n",
        "mapa.add_children(points)\n",
        "mapa"
      ],
      "execution_count": 0,
      "outputs": [
        {
          "output_type": "stream",
          "text": [
            "/usr/local/lib/python3.6/dist-packages/ipykernel_launcher.py:7: FutureWarning: Method `add_children` is deprecated. Please use `add_child` instead.\n",
            "  import sys\n"
          ],
          "name": "stderr"
        },
        {
          "output_type": "execute_result",
          "data": {
            "text/html": [
              "<div style=\"width:100%;\"><div style=\"position:relative;width:100%;height:0;padding-bottom:60%;\"><iframe src=\"data:text/html;charset=utf-8;base64,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\" style=\"position:absolute;width:100%;height:100%;left:0;top:0;border:none !important;\" allowfullscreen webkitallowfullscreen mozallowfullscreen></iframe></div></div>"
            ],
            "text/plain": [
              "<folium.folium.Map at 0x7f6c66db63c8>"
            ]
          },
          "metadata": {
            "tags": []
          },
          "execution_count": 131
        }
      ]
    }
  ]
}